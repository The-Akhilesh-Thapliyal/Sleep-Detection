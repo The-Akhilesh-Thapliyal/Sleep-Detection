{
 "cells": [
  {
   "cell_type": "markdown",
   "metadata": {},
   "source": [
    "# Sleep Detection"
   ]
  },
  {
   "cell_type": "markdown",
   "metadata": {},
   "source": [
    "## Take only face(For yawn and not_yawn)"
   ]
  },
  {
   "cell_type": "code",
   "execution_count": 8,
   "metadata": {},
   "outputs": [
    {
     "name": "stdout",
     "output_type": "stream",
     "text": [
      "0\n",
      "1\n"
     ]
    }
   ],
   "source": [
    "def face_for_yawn(direc=r\"archive\\train\", face_cas_path=r\"archive(1)\\haarcascade_frontalface_default.xml\"):\n",
    "    yaw_no = []\n",
    "    IMG_SIZE = 145\n",
    "    categories = [\"yawn\", \"no_yawn\"]\n",
    "    for category in categories:\n",
    "        path_link = os.path.join(direc, category)\n",
    "        class_num1 = categories.index(category)\n",
    "        print(class_num1)\n",
    "        for image in os.listdir(path_link):\n",
    "            image_array = cv2.imread(os.path.join(path_link, image), cv2.IMREAD_COLOR)\n",
    "            face_cascade = cv2.CascadeClassifier(face_cas_path)\n",
    "            faces = face_cascade.detectMultiScale(image_array, 1.3, 5)\n",
    "            for (x, y, w, h) in faces:\n",
    "                img = cv2.rectangle(image_array, (x, y), (x+w, y+h), (0, 255, 0), 2)\n",
    "                roi_color = img[y:y+h, x:x+w]\n",
    "                resized_array = cv2.resize(roi_color, (IMG_SIZE, IMG_SIZE))\n",
    "                yaw_no.append([resized_array, class_num1])\n",
    "    return yaw_no\n",
    "\n",
    "\n",
    "yawn_no_yawn = face_for_yawn()"
   ]
  },
  {
   "cell_type": "markdown",
   "metadata": {},
   "source": [
    "## For Closed and Open eye"
   ]
  },
  {
   "cell_type": "code",
   "execution_count": 9,
   "metadata": {},
   "outputs": [],
   "source": [
    "def get_data(dir_path=r\"archive\\train\", face_cas=r\"archive(1)\\haarcascade_frontalface_default.xml\", eye_cas=r\"archive(1)\\haarcascade.xml\"):\n",
    "    labels = ['Closed', 'Open']\n",
    "    IMG_SIZE = 145\n",
    "    data = []\n",
    "    for label in labels:\n",
    "        path = os.path.join(dir_path, label)\n",
    "        class_num = labels.index(label)\n",
    "        class_num +=2\n",
    "        print(class_num)\n",
    "        for img in os.listdir(path):\n",
    "            try:\n",
    "                img_array = cv2.imread(os.path.join(path, img), cv2.IMREAD_COLOR)\n",
    "                resized_array = cv2.resize(img_array, (IMG_SIZE, IMG_SIZE))\n",
    "                data.append([resized_array, class_num])\n",
    "            except Exception as e:\n",
    "                print(e)\n",
    "    return data"
   ]
  },
  {
   "cell_type": "code",
   "execution_count": 10,
   "metadata": {},
   "outputs": [
    {
     "name": "stdout",
     "output_type": "stream",
     "text": [
      "2\n",
      "3\n"
     ]
    }
   ],
   "source": [
    "data_train = get_data()"
   ]
  },
  {
   "cell_type": "markdown",
   "metadata": {},
   "source": [
    "## Extend data and Convert array"
   ]
  },
  {
   "cell_type": "code",
   "execution_count": 11,
   "metadata": {},
   "outputs": [],
   "source": [
    "def append_data():\n",
    "#     total_data = []\n",
    "    yaw_no = face_for_yawn()\n",
    "    data = get_data()\n",
    "    yaw_no.extend(data)\n",
    "    return np.array(yaw_no)"
   ]
  },
  {
   "cell_type": "markdown",
   "metadata": {},
   "source": [
    "## New variable to store"
   ]
  },
  {
   "cell_type": "code",
   "execution_count": 12,
   "metadata": {},
   "outputs": [
    {
     "name": "stdout",
     "output_type": "stream",
     "text": [
      "0\n",
      "1\n",
      "2\n",
      "3\n"
     ]
    },
    {
     "name": "stderr",
     "output_type": "stream",
     "text": [
      "C:\\Users\\WINDOW~1\\AppData\\Local\\Temp/ipykernel_8556/4184376270.py:6: VisibleDeprecationWarning: Creating an ndarray from ragged nested sequences (which is a list-or-tuple of lists-or-tuples-or ndarrays with different lengths or shapes) is deprecated. If you meant to do this, you must specify 'dtype=object' when creating the ndarray\n",
      "  return np.array(yaw_no)\n"
     ]
    }
   ],
   "source": [
    "new_data = append_data()"
   ]
  },
  {
   "cell_type": "markdown",
   "metadata": {},
   "source": [
    "## Separate label and features"
   ]
  },
  {
   "cell_type": "code",
   "execution_count": 13,
   "metadata": {},
   "outputs": [],
   "source": [
    "X = []\n",
    "y = []\n",
    "for feature, label in new_data:\n",
    "    X.append(feature)\n",
    "    y.append(label)"
   ]
  },
  {
   "cell_type": "markdown",
   "metadata": {},
   "source": [
    "## Reshape the Array"
   ]
  },
  {
   "cell_type": "code",
   "execution_count": 14,
   "metadata": {},
   "outputs": [],
   "source": [
    "X = np.array(X)\n",
    "X = X.reshape(-1, 145, 145, 3)"
   ]
  },
  {
   "cell_type": "markdown",
   "metadata": {},
   "source": [
    "## LabelBinarizer"
   ]
  },
  {
   "cell_type": "code",
   "execution_count": 15,
   "metadata": {},
   "outputs": [],
   "source": [
    "from sklearn.preprocessing import LabelBinarizer\n",
    "label_bin = LabelBinarizer()\n",
    "y = label_bin.fit_transform(y)"
   ]
  },
  {
   "cell_type": "markdown",
   "metadata": {},
   "source": [
    "## Label array"
   ]
  },
  {
   "cell_type": "code",
   "execution_count": 16,
   "metadata": {},
   "outputs": [],
   "source": [
    "y = np.array(y)"
   ]
  },
  {
   "cell_type": "markdown",
   "metadata": {},
   "source": [
    "## Train Test split"
   ]
  },
  {
   "cell_type": "code",
   "execution_count": 17,
   "metadata": {},
   "outputs": [],
   "source": [
    "from sklearn.model_selection import train_test_split\n",
    "seed = 42\n",
    "test_size = 0.30\n",
    "X_train, X_test, y_train, y_test = train_test_split(X, y, random_state=seed, test_size=test_size)"
   ]
  },
  {
   "cell_type": "markdown",
   "metadata": {},
   "source": [
    "## Length of X_test"
   ]
  },
  {
   "cell_type": "code",
   "execution_count": 18,
   "metadata": {},
   "outputs": [
    {
     "data": {
      "text/plain": [
       "578"
      ]
     },
     "execution_count": 18,
     "metadata": {},
     "output_type": "execute_result"
    }
   ],
   "source": [
    "len(X_test)"
   ]
  },
  {
   "cell_type": "markdown",
   "metadata": {},
   "source": [
    "## Import some dependencies"
   ]
  },
  {
   "cell_type": "code",
   "execution_count": 19,
   "metadata": {},
   "outputs": [],
   "source": [
    "from tensorflow.keras.layers import Input, Lambda, Dense, Flatten, Conv2D, MaxPooling2D, Dropout\n",
    "from tensorflow.keras.models import Model\n",
    "from tensorflow.keras.models import Sequential\n",
    "from keras.preprocessing.image import ImageDataGenerator\n",
    "import tensorflow as tf"
   ]
  },
  {
   "cell_type": "markdown",
   "metadata": {},
   "source": [
    "## Data Augmentation"
   ]
  },
  {
   "cell_type": "code",
   "execution_count": 20,
   "metadata": {},
   "outputs": [],
   "source": [
    "train_generator = ImageDataGenerator(rescale=1/255, zoom_range=0.2, horizontal_flip=True, rotation_range=30)\n",
    "test_generator = ImageDataGenerator(rescale=1/255)\n",
    "\n",
    "\n",
    "#train_generator = tf.data.Dataset.from_tensor_slices((X_train, y_train))\n",
    "#test_generator = tf.data.Dataset.from_tensor_slices((X_test, y_test))\n",
    "\n",
    "train_generator = train_generator.flow(np.array(X_train), y_train, shuffle=False)\n",
    "test_generator = test_generator.flow(np.array(X_test), y_test, shuffle=False)"
   ]
  },
  {
   "cell_type": "markdown",
   "metadata": {},
   "source": [
    "# Model"
   ]
  },
  {
   "cell_type": "code",
   "execution_count": 21,
   "metadata": {},
   "outputs": [
    {
     "name": "stdout",
     "output_type": "stream",
     "text": [
      "Model: \"sequential\"\n",
      "_________________________________________________________________\n",
      "Layer (type)                 Output Shape              Param #   \n",
      "=================================================================\n",
      "conv2d (Conv2D)              (None, 143, 143, 256)     7168      \n",
      "_________________________________________________________________\n",
      "max_pooling2d (MaxPooling2D) (None, 71, 71, 256)       0         \n",
      "_________________________________________________________________\n",
      "conv2d_1 (Conv2D)            (None, 69, 69, 128)       295040    \n",
      "_________________________________________________________________\n",
      "max_pooling2d_1 (MaxPooling2 (None, 34, 34, 128)       0         \n",
      "_________________________________________________________________\n",
      "conv2d_2 (Conv2D)            (None, 32, 32, 64)        73792     \n",
      "_________________________________________________________________\n",
      "max_pooling2d_2 (MaxPooling2 (None, 16, 16, 64)        0         \n",
      "_________________________________________________________________\n",
      "conv2d_3 (Conv2D)            (None, 14, 14, 32)        18464     \n",
      "_________________________________________________________________\n",
      "max_pooling2d_3 (MaxPooling2 (None, 7, 7, 32)          0         \n",
      "_________________________________________________________________\n",
      "flatten (Flatten)            (None, 1568)              0         \n",
      "_________________________________________________________________\n",
      "dropout (Dropout)            (None, 1568)              0         \n",
      "_________________________________________________________________\n",
      "dense (Dense)                (None, 64)                100416    \n",
      "_________________________________________________________________\n",
      "dense_1 (Dense)              (None, 4)                 260       \n",
      "=================================================================\n",
      "Total params: 495,140\n",
      "Trainable params: 495,140\n",
      "Non-trainable params: 0\n",
      "_________________________________________________________________\n"
     ]
    }
   ],
   "source": [
    "model = Sequential()\n",
    "\n",
    "model.add(Conv2D(256, (3, 3), activation=\"relu\", input_shape=(145,145,3)))\n",
    "model.add(MaxPooling2D(2, 2))\n",
    "\n",
    "model.add(Conv2D(128, (3, 3), activation=\"relu\"))\n",
    "model.add(MaxPooling2D(2, 2))\n",
    "\n",
    "model.add(Conv2D(64, (3, 3), activation=\"relu\"))\n",
    "model.add(MaxPooling2D(2, 2))\n",
    "\n",
    "model.add(Conv2D(32, (3, 3), activation=\"relu\"))\n",
    "model.add(MaxPooling2D(2, 2))\n",
    "\n",
    "model.add(Flatten())\n",
    "model.add(Dropout(0.5))\n",
    "\n",
    "model.add(Dense(64, activation=\"relu\"))\n",
    "model.add(Dense(4, activation=\"softmax\"))\n",
    "\n",
    "model.compile(loss=\"categorical_crossentropy\", metrics=[\"accuracy\"], optimizer=\"adam\")\n",
    "\n",
    "model.summary()"
   ]
  },
  {
   "cell_type": "code",
   "execution_count": 22,
   "metadata": {},
   "outputs": [
    {
     "name": "stdout",
     "output_type": "stream",
     "text": [
      "Epoch 1/50\n",
      "43/43 [==============================] - 422s 10s/step - loss: 1.1787 - accuracy: 0.4595 - val_loss: 0.8622 - val_accuracy: 0.6747\n",
      "Epoch 2/50\n",
      "43/43 [==============================] - 412s 10s/step - loss: 0.6066 - accuracy: 0.7506 - val_loss: 0.6524 - val_accuracy: 0.7180\n",
      "Epoch 3/50\n",
      "43/43 [==============================] - 408s 9s/step - loss: 0.4214 - accuracy: 0.8411 - val_loss: 0.3382 - val_accuracy: 0.8668\n",
      "Epoch 4/50\n",
      "43/43 [==============================] - 334s 8s/step - loss: 0.3222 - accuracy: 0.8656 - val_loss: 0.4703 - val_accuracy: 0.8270\n",
      "Epoch 5/50\n",
      "43/43 [==============================] - 257s 6s/step - loss: 0.3199 - accuracy: 0.8708 - val_loss: 0.2397 - val_accuracy: 0.9048\n",
      "Epoch 6/50\n",
      "43/43 [==============================] - 247s 6s/step - loss: 0.2934 - accuracy: 0.8775 - val_loss: 0.2595 - val_accuracy: 0.8858\n",
      "Epoch 7/50\n",
      "43/43 [==============================] - 6473s 154s/step - loss: 0.2589 - accuracy: 0.9035 - val_loss: 0.2098 - val_accuracy: 0.9048\n",
      "Epoch 8/50\n",
      "43/43 [==============================] - 207s 5s/step - loss: 0.2530 - accuracy: 0.8990 - val_loss: 0.2265 - val_accuracy: 0.8979\n",
      "Epoch 9/50\n",
      "43/43 [==============================] - 388s 9s/step - loss: 0.2421 - accuracy: 0.9072 - val_loss: 0.2006 - val_accuracy: 0.9048\n",
      "Epoch 10/50\n",
      "43/43 [==============================] - 395s 9s/step - loss: 0.2165 - accuracy: 0.9079 - val_loss: 0.1884 - val_accuracy: 0.9170\n",
      "Epoch 11/50\n",
      "43/43 [==============================] - 392s 9s/step - loss: 0.1997 - accuracy: 0.9161 - val_loss: 0.1857 - val_accuracy: 0.9187\n",
      "Epoch 12/50\n",
      "43/43 [==============================] - 387s 9s/step - loss: 0.1970 - accuracy: 0.9109 - val_loss: 0.1609 - val_accuracy: 0.9239\n",
      "Epoch 13/50\n",
      "43/43 [==============================] - 385s 9s/step - loss: 0.2037 - accuracy: 0.9169 - val_loss: 0.2036 - val_accuracy: 0.9100\n",
      "Epoch 14/50\n",
      "43/43 [==============================] - 397s 9s/step - loss: 0.1765 - accuracy: 0.9339 - val_loss: 0.1495 - val_accuracy: 0.9343\n",
      "Epoch 15/50\n",
      "43/43 [==============================] - 389s 9s/step - loss: 0.1801 - accuracy: 0.9265 - val_loss: 0.1812 - val_accuracy: 0.9170\n",
      "Epoch 16/50\n",
      "43/43 [==============================] - 384s 9s/step - loss: 0.1915 - accuracy: 0.9280 - val_loss: 0.1691 - val_accuracy: 0.9256\n",
      "Epoch 17/50\n",
      "43/43 [==============================] - 396s 9s/step - loss: 0.1544 - accuracy: 0.9369 - val_loss: 0.1913 - val_accuracy: 0.9187\n",
      "Epoch 18/50\n",
      "43/43 [==============================] - 383s 9s/step - loss: 0.1590 - accuracy: 0.9332 - val_loss: 0.1508 - val_accuracy: 0.9291\n",
      "Epoch 19/50\n",
      "43/43 [==============================] - 388s 9s/step - loss: 0.1423 - accuracy: 0.9406 - val_loss: 0.1542 - val_accuracy: 0.9343\n",
      "Epoch 20/50\n",
      "43/43 [==============================] - 258s 6s/step - loss: 0.1434 - accuracy: 0.9414 - val_loss: 0.1461 - val_accuracy: 0.9325\n",
      "Epoch 21/50\n",
      "43/43 [==============================] - 256s 6s/step - loss: 0.1521 - accuracy: 0.9391 - val_loss: 0.1318 - val_accuracy: 0.9481\n",
      "Epoch 22/50\n",
      "43/43 [==============================] - 291s 7s/step - loss: 0.1298 - accuracy: 0.9480 - val_loss: 0.1155 - val_accuracy: 0.9481\n",
      "Epoch 23/50\n",
      "43/43 [==============================] - 316s 7s/step - loss: 0.1889 - accuracy: 0.9272 - val_loss: 0.1666 - val_accuracy: 0.9360\n",
      "Epoch 24/50\n",
      "43/43 [==============================] - 272s 6s/step - loss: 0.1454 - accuracy: 0.9384 - val_loss: 0.1680 - val_accuracy: 0.9360\n",
      "Epoch 25/50\n",
      "43/43 [==============================] - 269s 6s/step - loss: 0.1766 - accuracy: 0.9250 - val_loss: 0.1264 - val_accuracy: 0.9481\n",
      "Epoch 26/50\n",
      "43/43 [==============================] - 272s 6s/step - loss: 0.1406 - accuracy: 0.9443 - val_loss: 0.1266 - val_accuracy: 0.9446\n",
      "Epoch 27/50\n",
      "43/43 [==============================] - 266s 6s/step - loss: 0.1421 - accuracy: 0.9517 - val_loss: 0.0944 - val_accuracy: 0.9446\n",
      "Epoch 28/50\n",
      "43/43 [==============================] - 258s 6s/step - loss: 0.1380 - accuracy: 0.9443 - val_loss: 0.1297 - val_accuracy: 0.9446\n",
      "Epoch 29/50\n",
      "43/43 [==============================] - 269s 6s/step - loss: 0.1301 - accuracy: 0.9480 - val_loss: 0.1089 - val_accuracy: 0.9516\n",
      "Epoch 30/50\n",
      "43/43 [==============================] - 264s 6s/step - loss: 0.1163 - accuracy: 0.9540 - val_loss: 0.1168 - val_accuracy: 0.9516\n",
      "Epoch 31/50\n",
      "43/43 [==============================] - 249s 6s/step - loss: 0.1323 - accuracy: 0.9488 - val_loss: 0.1152 - val_accuracy: 0.9464\n",
      "Epoch 32/50\n",
      "43/43 [==============================] - 254s 6s/step - loss: 0.0902 - accuracy: 0.9607 - val_loss: 0.1144 - val_accuracy: 0.9550\n",
      "Epoch 33/50\n",
      "43/43 [==============================] - 256s 6s/step - loss: 0.1524 - accuracy: 0.9406 - val_loss: 0.1197 - val_accuracy: 0.9567\n",
      "Epoch 34/50\n",
      "43/43 [==============================] - 262s 6s/step - loss: 0.1102 - accuracy: 0.9540 - val_loss: 0.1096 - val_accuracy: 0.9619\n",
      "Epoch 35/50\n",
      "43/43 [==============================] - 251s 6s/step - loss: 0.1408 - accuracy: 0.9458 - val_loss: 0.1175 - val_accuracy: 0.9481\n",
      "Epoch 36/50\n",
      "43/43 [==============================] - 270s 6s/step - loss: 0.1166 - accuracy: 0.9555 - val_loss: 0.1030 - val_accuracy: 0.9550\n",
      "Epoch 37/50\n",
      "43/43 [==============================] - 279s 7s/step - loss: 0.1179 - accuracy: 0.9555 - val_loss: 0.1124 - val_accuracy: 0.9602\n",
      "Epoch 38/50\n",
      "43/43 [==============================] - 254s 6s/step - loss: 0.0940 - accuracy: 0.9599 - val_loss: 0.0863 - val_accuracy: 0.9619\n",
      "Epoch 39/50\n",
      "43/43 [==============================] - 256s 6s/step - loss: 0.0867 - accuracy: 0.9703 - val_loss: 0.0754 - val_accuracy: 0.9637\n",
      "Epoch 40/50\n",
      "43/43 [==============================] - 241s 6s/step - loss: 0.0883 - accuracy: 0.9659 - val_loss: 0.0966 - val_accuracy: 0.9671\n",
      "Epoch 41/50\n",
      "43/43 [==============================] - 241s 6s/step - loss: 0.1153 - accuracy: 0.9562 - val_loss: 0.0727 - val_accuracy: 0.9654\n",
      "Epoch 42/50\n",
      "43/43 [==============================] - 240s 6s/step - loss: 0.0863 - accuracy: 0.9688 - val_loss: 0.0806 - val_accuracy: 0.9619\n",
      "Epoch 43/50\n",
      "43/43 [==============================] - 239s 6s/step - loss: 0.0844 - accuracy: 0.9703 - val_loss: 0.1091 - val_accuracy: 0.9602\n",
      "Epoch 44/50\n",
      "43/43 [==============================] - 240s 6s/step - loss: 0.1122 - accuracy: 0.9577 - val_loss: 0.1256 - val_accuracy: 0.9585\n",
      "Epoch 45/50\n",
      "43/43 [==============================] - 240s 6s/step - loss: 0.1195 - accuracy: 0.9577 - val_loss: 0.1258 - val_accuracy: 0.9550\n",
      "Epoch 46/50\n",
      "43/43 [==============================] - 239s 6s/step - loss: 0.1149 - accuracy: 0.9584 - val_loss: 0.1060 - val_accuracy: 0.9619\n",
      "Epoch 47/50\n",
      "43/43 [==============================] - 239s 6s/step - loss: 0.1086 - accuracy: 0.9621 - val_loss: 0.0746 - val_accuracy: 0.9689\n",
      "Epoch 48/50\n",
      "43/43 [==============================] - 239s 6s/step - loss: 0.1071 - accuracy: 0.9555 - val_loss: 0.0857 - val_accuracy: 0.9654\n",
      "Epoch 49/50\n",
      "43/43 [==============================] - 239s 6s/step - loss: 0.0934 - accuracy: 0.9710 - val_loss: 0.0949 - val_accuracy: 0.9706\n",
      "Epoch 50/50\n",
      "43/43 [==============================] - 239s 6s/step - loss: 0.1165 - accuracy: 0.9562 - val_loss: 0.0817 - val_accuracy: 0.9619\n"
     ]
    }
   ],
   "source": [
    "history = model.fit(train_generator, epochs=50, validation_data=test_generator, shuffle=True, validation_steps=len(test_generator))"
   ]
  },
  {
   "cell_type": "markdown",
   "metadata": {},
   "source": [
    "## History"
   ]
  },
  {
   "cell_type": "code",
   "execution_count": 23,
   "metadata": {},
   "outputs": [
    {
     "data": {
      "image/png": "[encoded data removed]",
      "text/plain": [
       "<Figure size 432x288 with 1 Axes>"
      ]
     },
     "metadata": {
      "needs_background": "light"
     },
     "output_type": "display_data"
    },
    {
     "data": {
      "image/png": "[encoded data removed]",
      "text/plain": [
       "<Figure size 432x288 with 1 Axes>"
      ]
     },
     "metadata": {
      "needs_background": "light"
     },
     "output_type": "display_data"
    }
   ],
   "source": [
    "accuracy = history.history['accuracy']\n",
    "val_accuracy = history.history['val_accuracy']\n",
    "loss = history.history['loss']\n",
    "val_loss = history.history['val_loss']\n",
    "epochs = range(len(accuracy))\n",
    "\n",
    "plt.plot(epochs, accuracy, \"b\", label=\"trainning accuracy\")\n",
    "plt.plot(epochs, val_accuracy, \"r\", label=\"validation accuracy\")\n",
    "plt.legend()\n",
    "plt.show()\n",
    "\n",
    "plt.plot(epochs, loss, \"b\", label=\"trainning loss\")\n",
    "plt.plot(epochs, val_loss, \"r\", label=\"validation loss\")\n",
    "plt.legend()\n",
    "plt.show()"
   ]
  },
  {
   "cell_type": "markdown",
   "metadata": {},
   "source": [
    "## Save Model"
   ]
  },
  {
   "cell_type": "code",
   "execution_count": 24,
   "metadata": {},
   "outputs": [],
   "source": [
    "model.save(\"Sleep_Detection_Model.h5\")"
   ]
  },
  {
   "cell_type": "code",
   "execution_count": 25,
   "metadata": {},
   "outputs": [
    {
     "name": "stdout",
     "output_type": "stream",
     "text": [
      "INFO:tensorflow:Assets written to: drowiness_new7.model\\assets\n"
     ]
    }
   ],
   "source": [
    "model.save(\"Sleep_Detection_Model.model\")"
   ]
  },
  {
   "cell_type": "markdown",
   "metadata": {},
   "source": [
    "# Prediction"
   ]
  },
  {
   "cell_type": "code",
   "execution_count": 26,
   "metadata": {},
   "outputs": [
    {
     "name": "stderr",
     "output_type": "stream",
     "text": [
      "C:\\Users\\WINDOWS10\\AppData\\Roaming\\Python\\Python39\\site-packages\\tensorflow\\python\\keras\\engine\\sequential.py:455: UserWarning: `model.predict_classes()` is deprecated and will be removed after 2021-01-01. Please use instead:* `np.argmax(model.predict(x), axis=-1)`,   if your model does multi-class classification   (e.g. if it uses a `softmax` last-layer activation).* `(model.predict(x) > 0.5).astype(\"int32\")`,   if your model does binary classification   (e.g. if it uses a `sigmoid` last-layer activation).\n",
      "  warnings.warn('`model.predict_classes()` is deprecated and '\n"
     ]
    }
   ],
   "source": [
    "prediction = model.predict_classes(X_test)"
   ]
  },
  {
   "cell_type": "code",
   "execution_count": 27,
   "metadata": {},
   "outputs": [
    {
     "data": {
      "text/plain": [
       "array([2, 3, 2, 3, 1, 3, 3, 2, 0, 2, 3, 3, 3, 2, 2, 2, 3, 0, 0, 3, 2, 3,\n",
       "       2, 0, 0, 2, 2, 2, 2, 2, 3, 2, 3, 2, 0, 3, 3, 2, 0, 3, 3, 3, 2, 3,\n",
       "       2, 2, 3, 3, 2, 3, 3, 0, 2, 1, 3, 3, 2, 2, 2, 0, 3, 3, 0, 2, 2, 3,\n",
       "       2, 3, 2, 2, 1, 3, 3, 3, 2, 0, 0, 3, 0, 3, 2, 0, 3, 2, 2, 2, 2, 0,\n",
       "       3, 3, 2, 3, 3, 3, 1, 0, 3, 0, 3, 3, 3, 0, 3, 0, 2, 3, 2, 0, 2, 0,\n",
       "       0, 1, 2, 0, 0, 3, 3, 3, 2, 2, 3, 3, 2, 0, 1, 2, 3, 3, 2, 0, 3, 3,\n",
       "       0, 3, 1, 2, 3, 3, 2, 0, 2, 2, 2, 0, 3, 3, 2, 3, 2, 0, 2, 3, 3, 3,\n",
       "       3, 1, 1, 0, 3, 1, 3, 2, 2, 3, 2, 3, 3, 2, 3, 2, 3, 1, 2, 0, 3, 2,\n",
       "       2, 2, 0, 2, 3, 0, 2, 0, 3, 2, 3, 0, 2, 0, 0, 3, 2, 2, 3, 3, 2, 0,\n",
       "       3, 2, 3, 0, 2, 0, 0, 1, 2, 3, 2, 0, 3, 1, 2, 2, 2, 2, 1, 3, 0, 0,\n",
       "       1, 0, 2, 3, 3, 3, 3, 0, 1, 2, 0, 0, 3, 3, 1, 3, 3, 0, 3, 3, 0, 1,\n",
       "       0, 0, 3, 3, 3, 3, 3, 2, 3, 3, 2, 3, 2, 0, 2, 2, 2, 0, 3, 2, 2, 2,\n",
       "       3, 2, 2, 0, 2, 3, 2, 2, 2, 3, 3, 3, 3, 3, 0, 0, 0, 3, 3, 3, 3, 2,\n",
       "       2, 1, 2, 2, 2, 3, 2, 0, 2, 2, 1, 3, 2, 3, 1, 3, 3, 0, 3, 3, 0, 3,\n",
       "       3, 2, 2, 2, 1, 1, 0, 3, 3, 3, 3, 1, 3, 0, 3, 2, 2, 1, 3, 2, 2, 2,\n",
       "       3, 3, 2, 3, 3, 3, 3, 2, 1, 3, 2, 2, 2, 0, 2, 0, 3, 3, 2, 3, 2, 2,\n",
       "       2, 2, 3, 2, 0, 2, 1, 0, 2, 2, 2, 1, 3, 2, 3, 3, 3, 2, 2, 2, 2, 2,\n",
       "       2, 3, 0, 3, 3, 0, 3, 1, 3, 2, 2, 0, 0, 2, 2, 3, 2, 0, 3, 2, 3, 3,\n",
       "       3, 0, 0, 3, 0, 2, 3, 2, 2, 3, 0, 3, 3, 2, 3, 3, 0, 2, 3, 2, 3, 1,\n",
       "       0, 3, 2, 2, 3, 1, 3, 2, 2, 3, 3, 2, 0, 2, 0, 1, 2, 2, 1, 3, 2, 3,\n",
       "       3, 3, 2, 3, 3, 2, 0, 1, 2, 2, 2, 2, 2, 0, 2, 3, 3, 2, 1, 3, 2, 2,\n",
       "       2, 2, 3, 3, 0, 0, 1, 3, 3, 2, 2, 2, 2, 2, 2, 3, 1, 2, 0, 2, 3, 2,\n",
       "       2, 2, 2, 3, 2, 3, 2, 2, 3, 2, 3, 2, 2, 1, 0, 2, 2, 3, 2, 3, 0, 1,\n",
       "       0, 3, 0, 0, 3, 2, 2, 0, 2, 2, 3, 2, 3, 3, 3, 3, 3, 2, 0, 3, 2, 3,\n",
       "       2, 2, 3, 2, 2, 2, 3, 3, 2, 1, 2, 1, 3, 3, 1, 0, 3, 3, 3, 2, 2, 0,\n",
       "       3, 2, 2, 2, 2, 2, 2, 3, 2, 2, 1, 3, 2, 2, 3, 3, 2, 3, 2, 3, 2, 2,\n",
       "       3, 2, 2, 3, 2, 2], dtype=int64)"
      ]
     },
     "execution_count": 27,
     "metadata": {},
     "output_type": "execute_result"
    }
   ],
   "source": [
    "prediction"
   ]
  },
  {
   "cell_type": "markdown",
   "metadata": {},
   "source": [
    "# classification report"
   ]
  },
  {
   "cell_type": "code",
   "execution_count": 28,
   "metadata": {},
   "outputs": [],
   "source": [
    "labels_new = [\"yawn\", \"no_yawn\", \"Closed\", \"Open\"]"
   ]
  },
  {
   "cell_type": "code",
   "execution_count": 29,
   "metadata": {},
   "outputs": [
    {
     "name": "stdout",
     "output_type": "stream",
     "text": [
      "              precision    recall  f1-score   support\n",
      "\n",
      "        yawn       0.63      0.95      0.76        63\n",
      "     no_yawn       0.93      0.54      0.68        74\n",
      "      Closed       0.94      0.98      0.96       215\n",
      "        Open       0.98      0.94      0.96       226\n",
      "\n",
      "    accuracy                           0.90       578\n",
      "   macro avg       0.87      0.85      0.84       578\n",
      "weighted avg       0.92      0.90      0.90       578\n",
      "\n"
     ]
    }
   ],
   "source": [
    "from sklearn.metrics import classification_report\n",
    "print(classification_report(np.argmax(y_test, axis=1), prediction, target_names=labels_new))"
   ]
  },
  {
   "cell_type": "markdown",
   "metadata": {},
   "source": [
    "# predicting function"
   ]
  },
  {
   "cell_type": "code",
   "execution_count": 30,
   "metadata": {},
   "outputs": [],
   "source": [
    "labels_new = [\"yawn\", \"no_yawn\", \"Closed\", \"Open\"]\n",
    "IMG_SIZE = 145\n",
    "def prepare(filepath, face_cas=\"../input/prediction-images/haarcascade_frontalface_default.xml\"):\n",
    "    img_array = cv2.imread(filepath, cv2.IMREAD_COLOR)\n",
    "    img_array = img_array / 255\n",
    "    resized_array = cv2.resize(img_array, (IMG_SIZE, IMG_SIZE))\n",
    "    return resized_array.reshape(-1, IMG_SIZE, IMG_SIZE, 3)\n",
    "\n",
    "model = tf.keras.models.load_model(\"./Sleep_Detector_Model.h5\")"
   ]
  },
  {
   "cell_type": "markdown",
   "metadata": {},
   "source": [
    "# Prediction \n",
    "## 0-yawn, 1-no_yawn, 2-Closed, 3-Open"
   ]
  },
  {
   "cell_type": "code",
   "execution_count": 31,
   "metadata": {},
   "outputs": [
    {
     "data": {
      "text/plain": [
       "1"
      ]
     },
     "execution_count": 31,
     "metadata": {},
     "output_type": "execute_result"
    }
   ],
   "source": [
    "# prepare(\"../input/drowsiness-dataset/train/no_yawn/1068.jpg\")\n",
    "prediction = model.predict([prepare(r\"archive\\train\\no_yawn\\1067.jpg\")])\n",
    "np.argmax(prediction)"
   ]
  },
  {
   "cell_type": "code",
   "execution_count": 32,
   "metadata": {},
   "outputs": [
    {
     "data": {
      "text/plain": [
       "2"
      ]
     },
     "execution_count": 32,
     "metadata": {},
     "output_type": "execute_result"
    }
   ],
   "source": [
    "prediction = model.predict([prepare(r\"archive\\train\\Closed\\_101.jpg\")])\n",
    "np.argmax(prediction)"
   ]
  },
  {
   "cell_type": "code",
   "execution_count": 33,
   "metadata": {},
   "outputs": [
    {
     "data": {
      "text/plain": [
       "2"
      ]
     },
     "execution_count": 33,
     "metadata": {},
     "output_type": "execute_result"
    }
   ],
   "source": [
    "prediction = model.predict([prepare(r\"archive\\train\\Closed\\_104.jpg\")])\n",
    "np.argmax(prediction)"
   ]
  },
  {
   "cell_type": "code",
   "execution_count": 34,
   "metadata": {},
   "outputs": [
    {
     "data": {
      "text/plain": [
       "0"
      ]
     },
     "execution_count": 34,
     "metadata": {},
     "output_type": "execute_result"
    }
   ],
   "source": [
    "prediction = model.predict([prepare(r\"archive\\train\\yawn\\12.jpg\")])\n",
    "np.argmax(prediction)\n"
   ]
  }
 ],
 "metadata": {
  "interpreter": {
   "hash": "87b7bd39d341b484c5b823b7dfeada6cb173fab7ae76cbb00bb1f6ffc967dc38"
  },
  "kernelspec": {
   "display_name": "Python 3 (ipykernel)",
   "language": "python",
   "name": "python3"
  },
  "language_info": {
   "codemirror_mode": {
    "name": "ipython",
    "version": 3
   },
   "file_extension": ".py",
   "mimetype": "text/x-python",
   "name": "python",
   "nbconvert_exporter": "python",
   "pygments_lexer": "ipython3",
   "version": "3.10.13"
  }
 },
 "nbformat": 4,
 "nbformat_minor": 4
}
